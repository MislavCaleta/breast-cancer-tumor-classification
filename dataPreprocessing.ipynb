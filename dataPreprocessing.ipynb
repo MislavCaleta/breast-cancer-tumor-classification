{
 "cells": [
  {
   "cell_type": "code",
   "execution_count": 17,
   "id": "8d671553",
   "metadata": {},
   "outputs": [],
   "source": [
    "import numpy as np\n",
    "import pandas as pd\n",
    "import os"
   ]
  },
  {
   "cell_type": "code",
   "execution_count": 67,
   "id": "82966019",
   "metadata": {},
   "outputs": [
    {
     "name": "stdout",
     "output_type": "stream",
     "text": [
      "     1000025  5   1  1.1  1.2  2 1.3   3  1.4  1.5  2.1\n",
      "0    1002945  5   4    4    5  7  10   3    2    1    2\n",
      "1    1015425  3   1    1    1  2   2   3    1    1    2\n",
      "2    1016277  6   8    8    1  3   4   3    7    1    2\n",
      "3    1017023  4   1    1    3  2   1   3    1    1    2\n",
      "4    1017122  8  10   10    8  7  10   9    7    1    4\n",
      "..       ... ..  ..  ...  ... ..  ..  ..  ...  ...  ...\n",
      "693   776715  3   1    1    1  3   2   1    1    1    2\n",
      "694   841769  2   1    1    1  2   1   1    1    1    2\n",
      "695   888820  5  10   10    3  7   3   8   10    2    4\n",
      "696   897471  4   8    6    4  3   4  10    6    1    4\n",
      "697   897471  4   8    8    5  4   5  10    4    1    4\n",
      "\n",
      "[698 rows x 11 columns]\n",
      "     5   1  1.1  1.2  2 1.3   3  1.4  1.5  2.1\n",
      "0    5   4    4    5  7  10   3    2    1    2\n",
      "1    3   1    1    1  2   2   3    1    1    2\n",
      "2    6   8    8    1  3   4   3    7    1    2\n",
      "3    4   1    1    3  2   1   3    1    1    2\n",
      "4    8  10   10    8  7  10   9    7    1    4\n",
      "..  ..  ..  ...  ... ..  ..  ..  ...  ...  ...\n",
      "693  3   1    1    1  3   2   1    1    1    2\n",
      "694  2   1    1    1  2   1   1    1    1    2\n",
      "695  5  10   10    3  7   3   8   10    2    4\n",
      "696  4   8    6    4  3   4  10    6    1    4\n",
      "697  4   8    8    5  4   5  10    4    1    4\n",
      "\n",
      "[698 rows x 10 columns]\n"
     ]
    }
   ],
   "source": [
    "#reading original data\n",
    "\n",
    "projectDirPath = os.path.abspath('')\n",
    "orgDataPath = projectDirPath + \"\\original data and data description\\\\breast-cancer-wisconsin.csv\"\n",
    "data = pd.read_csv(orgDataPath)\n",
    "print(data)\n",
    "\n",
    "#replacing ? with np.nan and removing first column (id-s)\n",
    "data = data.replace('?', np.nan)\n",
    "data = data.iloc[:, 1:]\n",
    "print(data)\n",
    "\n",
    "#splitting into design matrix and vector of labels\n",
    "X = data.iloc[:, :-1].values\n",
    "y = data.iloc[:, -1].values"
   ]
  },
  {
   "cell_type": "code",
   "execution_count": 68,
   "id": "602c0ea6",
   "metadata": {},
   "outputs": [],
   "source": [
    "#taking care of missing data\n",
    "\n",
    "from sklearn.impute import SimpleImputer\n",
    "\n",
    "imputer = SimpleImputer(missing_values = np.nan, strategy = \"mean\")\n",
    "imputer.fit(X)\n",
    "X = imputer.transform(X)\n"
   ]
  },
  {
   "cell_type": "code",
   "execution_count": 69,
   "id": "f1576841",
   "metadata": {},
   "outputs": [],
   "source": [
    "#splitting into training and testing set\n",
    "\n",
    "from sklearn.model_selection import train_test_split\n",
    "\n",
    "X_train, X_test, y_train, y_test = train_test_split(X, y, test_size = 0.25)"
   ]
  },
  {
   "cell_type": "code",
   "execution_count": 87,
   "id": "e52feef4",
   "metadata": {},
   "outputs": [],
   "source": [
    "#saving train and test sets\n",
    "\n",
    "rdyDataPath = projectDirPath + \"\\\\ready data\"\n",
    "\n",
    "X_train = pd.DataFrame(X_train)\n",
    "X_test = pd.DataFrame(X_test)\n",
    "y_train = pd.DataFrame(y_train)\n",
    "y_test = pd.DataFrame(y_test)\n",
    "\n",
    "X_train.to_csv(rdyDataPath + \"\\\\X_train.csv\", index = False)\n",
    "X_test.to_csv(rdyDataPath + \"\\\\X_test.csv\", index = False)\n",
    "y_train.to_csv(rdyDataPath + \"\\\\y_train.csv\", index = False)\n",
    "y_test.to_csv(rdyDataPath + \"\\\\y_test.csv\", index = False)"
   ]
  },
  {
   "cell_type": "code",
   "execution_count": null,
   "id": "8dd10f37",
   "metadata": {},
   "outputs": [],
   "source": []
  }
 ],
 "metadata": {
  "kernelspec": {
   "display_name": "Python 3 (ipykernel)",
   "language": "python",
   "name": "python3"
  },
  "language_info": {
   "codemirror_mode": {
    "name": "ipython",
    "version": 3
   },
   "file_extension": ".py",
   "mimetype": "text/x-python",
   "name": "python",
   "nbconvert_exporter": "python",
   "pygments_lexer": "ipython3",
   "version": "3.8.12"
  }
 },
 "nbformat": 4,
 "nbformat_minor": 5
}
