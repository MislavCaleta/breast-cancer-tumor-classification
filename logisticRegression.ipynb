{
 "cells": [
  {
   "cell_type": "code",
   "execution_count": 1,
   "id": "6684b317",
   "metadata": {},
   "outputs": [],
   "source": [
    "import pandas as pd\n",
    "import numpy as np\n",
    "import os"
   ]
  },
  {
   "cell_type": "code",
   "execution_count": 2,
   "id": "7d345e2b",
   "metadata": {},
   "outputs": [],
   "source": [
    "#loading training and testing sets\n",
    "projectDirPath = os.path.abspath(\"\")\n",
    "\n",
    "X_train = pd.read_csv(projectDirPath + \"\\\\ready data\\\\X_train.csv\").values\n",
    "X_test = pd.read_csv(projectDirPath + \"\\\\ready data\\\\X_test.csv\").values\n",
    "y_train = pd.read_csv(projectDirPath + \"\\\\ready data\\\\y_train.csv\").values.reshape(-1,)\n",
    "y_test = pd.read_csv(projectDirPath + \"\\\\ready data\\\\y_test.csv\").values.reshape(-1,)"
   ]
  },
  {
   "cell_type": "code",
   "execution_count": 3,
   "id": "66d337a1",
   "metadata": {},
   "outputs": [
    {
     "data": {
      "text/plain": [
       "LogisticRegression()"
      ]
     },
     "execution_count": 3,
     "metadata": {},
     "output_type": "execute_result"
    }
   ],
   "source": [
    "#training the model with linear border\n",
    "from sklearn.linear_model import LogisticRegression\n",
    "\n",
    "logisticRegression = LogisticRegression()\n",
    "logisticRegression.fit(X_train, y_train)"
   ]
  },
  {
   "cell_type": "code",
   "execution_count": 4,
   "id": "9e2929f2",
   "metadata": {},
   "outputs": [
    {
     "data": {
      "text/plain": [
       "LogisticRegression(max_iter=1800)"
      ]
     },
     "execution_count": 4,
     "metadata": {},
     "output_type": "execute_result"
    }
   ],
   "source": [
    "#applying transformation on features to achive non-linear decision border\n",
    "from sklearn.preprocessing import PolynomialFeatures\n",
    "\n",
    "transformation = PolynomialFeatures(degree = 2)\n",
    "X_train_t = transformation.fit_transform(X_train)\n",
    "X_test_t = transformation.fit_transform(X_test)\n",
    "\n",
    "#training new model on transformed features\n",
    "polyLogisticRegression = LogisticRegression(max_iter = 1800)\n",
    "polyLogisticRegression.fit(X_train_t, y_train)"
   ]
  },
  {
   "cell_type": "code",
   "execution_count": 5,
   "id": "7d8324cf",
   "metadata": {},
   "outputs": [
    {
     "name": "stdout",
     "output_type": "stream",
     "text": [
      "mean of 10 accuracies:  0.9674891146589258\n",
      "standard deviation of accuracies:  0.045369716056529404\n",
      "mean of 10 recalls:  0.9674891146589258\n",
      "standard deviation of recalls:  0.045369716056529404\n"
     ]
    }
   ],
   "source": [
    "#validation of model with linear border using k-cross validation\n",
    "from sklearn.model_selection import cross_val_score\n",
    "from sklearn.metrics import make_scorer, recall_score\n",
    "\n",
    "accuracies = cross_val_score(estimator = logisticRegression, X = X_train, y = y_train, cv = 10)\n",
    "\n",
    "recall_scorer =  make_scorer(recall_score, pos_label = 4)\n",
    "recalls = cross_val_score(estimator = logisticRegression, X = X_train, y = y_train, scoring = recall_scorer, cv = 10)\n",
    "\n",
    "accMean = accuracies.mean()\n",
    "accStdDev = accuracies.std()\n",
    "recMean = recalls.mean()\n",
    "recStdDev = recalls.std()\n",
    "\n",
    "print(\"mean of 10 accuracies: \", accMean)\n",
    "print(\"standard deviation of accuracies: \", recStdDev)\n",
    "print(\"mean of 10 recalls: \", accMean)\n",
    "print(\"standard deviation of recalls: \", recStdDev)"
   ]
  },
  {
   "cell_type": "code",
   "execution_count": 6,
   "id": "30295ca1",
   "metadata": {},
   "outputs": [
    {
     "name": "stdout",
     "output_type": "stream",
     "text": [
      "mean of 10 accuracies:  0.9425979680696661\n",
      "standard deviation of accuracies:  0.07587986902175793\n",
      "mean of 10 recalls:  0.9425979680696661\n",
      "standard deviation of recalls:  0.07587986902175793\n"
     ]
    }
   ],
   "source": [
    "#validation of model with non-linear border using k-cross validation\n",
    "accuraciesP = cross_val_score(estimator = polyLogisticRegression, X = X_train_t, y = y_train, cv = 10)\n",
    "\n",
    "recallsP = cross_val_score(estimator = polyLogisticRegression, X = X_train_t, y = y_train, scoring = recall_scorer, cv = 10)\n",
    "\n",
    "accMeanP = accuraciesP.mean()\n",
    "accStdDevP = accuraciesP.std()\n",
    "recMeanP = recalls.mean()\n",
    "recStdDevP = recallsP.std()\n",
    "\n",
    "print(\"mean of 10 accuracies: \", accMeanP)\n",
    "print(\"standard deviation of accuracies: \", recStdDevP)\n",
    "print(\"mean of 10 recalls: \", accMeanP)\n",
    "print(\"standard deviation of recalls: \", recStdDevP)"
   ]
  },
  {
   "cell_type": "code",
   "execution_count": 29,
   "id": "2fbd7bb3",
   "metadata": {},
   "outputs": [
    {
     "name": "stdout",
     "output_type": "stream",
     "text": [
      "accuracy on the test set:  0.9657142857142857\n",
      "recall on the test set:  0.9310344827586207\n",
      "confusion matrix:\n",
      "  [[115   2]\n",
      " [  4  54]]\n"
     ]
    }
   ],
   "source": [
    "#testing of model with linear border on the test set and computing : accuracy, recall and confusion matrix\n",
    "from sklearn.metrics import accuracy_score, confusion_matrix\n",
    "\n",
    "y_pred = logisticRegression.predict(X_test)\n",
    "y_pred_p = polyLogisticRegression.predict(X_test_t)\n",
    "\n",
    "acc = accuracy_score(y_test, y_pred)\n",
    "rec = recall_score(y_test, y_pred, pos_label = 4)\n",
    "cm = confusion_matrix(y_test, y_pred)\n",
    "\n",
    "\n",
    "print(\"accuracy on the test set: \", acc)\n",
    "print(\"recall on the test set: \", rec)\n",
    "print(\"confusion matrix:\\n \", cm)"
   ]
  },
  {
   "cell_type": "code",
   "execution_count": 30,
   "id": "b121fd52",
   "metadata": {},
   "outputs": [
    {
     "name": "stdout",
     "output_type": "stream",
     "text": [
      "accuracy on the test set:  0.9371428571428572\n",
      "recall on the test set:  0.8793103448275862\n",
      "confusion matrix:\n",
      "  [[113   4]\n",
      " [  7  51]]\n"
     ]
    }
   ],
   "source": [
    "#testing of model with non-linear border on the test set and computing : accuracy, recall and confusion matrix\n",
    "y_pred_p = polyLogisticRegression.predict(X_test_t)\n",
    "\n",
    "accP = accuracy_score(y_test, y_pred_p)\n",
    "recP = recall_score(y_test, y_pred_p, pos_label = 4)\n",
    "cmP = confusion_matrix(y_test, y_pred_p)\n",
    "\n",
    "\n",
    "print(\"accuracy on the test set: \", accP)\n",
    "print(\"recall on the test set: \", recP)\n",
    "print(\"confusion matrix:\\n \", cmP)"
   ]
  },
  {
   "cell_type": "code",
   "execution_count": 31,
   "id": "d6799887",
   "metadata": {},
   "outputs": [
    {
     "data": {
      "text/plain": [
       "['C:\\\\Users\\\\misla\\\\Desktop\\\\breast cancer tumor classification\\\\models\\\\logisticRegression.joblib']"
      ]
     },
     "execution_count": 31,
     "metadata": {},
     "output_type": "execute_result"
    }
   ],
   "source": [
    "#saving the valid model based on higher recall\n",
    "from joblib import dump\n",
    "\n",
    "dump(logisticRegression, projectDirPath + \"\\\\models\\\\logisticRegression.joblib\")"
   ]
  },
  {
   "cell_type": "code",
   "execution_count": 33,
   "id": "384bc209",
   "metadata": {},
   "outputs": [],
   "source": [
    "#saving evaluation data for all tried out models\n",
    "import json\n",
    "\n",
    "#evaluation data for all the used models (will be used in streamlit app)\n",
    "linearData = {\"mean10Acc\" : accMean, \"accStd\" : accStdDev, \"mean10Rec\" : recMean, \"recStd\" : recStdDev, \"acc\": acc, \"rec\": rec}\n",
    "polyData = {\"mean10Acc\" : accMeanP, \"accStd\" : accStdDevP, \"mean10Rec\" : recMeanP, \"recStd\" : recStdDevP, \"acc\": accP, \"rec\": recP}\n",
    "linearCm = {\"tn\" : int(cm[0, 0]), \"fn\" : int(cm[1, 0]), \"tp\" : int(cm[1, 1]), \"fp\" : int(cm[0, 1])}\n",
    "polyCm = {\"tn\" : int(cmP[0, 0]), \"fn\" : int(cmP[1, 0]), \"tp\" : int(cmP[1, 1]), \"fp\" : int(cmP[0, 1])}\n",
    "\n",
    "with open(projectDirPath + \"\\\\modelsData\\\\logisticRegression.json\", \"w\") as file:\n",
    "    json.dump(linearData, file)\n",
    "\n",
    "with open(projectDirPath + \"\\\\modelsData\\\\logisticRegressionPoly.json\", \"w\") as file:\n",
    "    json.dump(polyData, file)\n",
    "\n",
    "with open(projectDirPath + \"\\\\modelsData\\\\logisticRegressionCm.json\", \"w\") as file:\n",
    "    json.dump(linearCm, file)\n",
    "    \n",
    "with open(projectDirPath + \"\\\\modelsData\\\\logisticRegressionPolyCm.json\", \"w\") as file:\n",
    "    json.dump(polyCm, file)"
   ]
  },
  {
   "cell_type": "code",
   "execution_count": null,
   "id": "5f380f62",
   "metadata": {},
   "outputs": [],
   "source": []
  }
 ],
 "metadata": {
  "kernelspec": {
   "display_name": "Python 3 (ipykernel)",
   "language": "python",
   "name": "python3"
  },
  "language_info": {
   "codemirror_mode": {
    "name": "ipython",
    "version": 3
   },
   "file_extension": ".py",
   "mimetype": "text/x-python",
   "name": "python",
   "nbconvert_exporter": "python",
   "pygments_lexer": "ipython3",
   "version": "3.8.12"
  }
 },
 "nbformat": 4,
 "nbformat_minor": 5
}
