{
 "cells": [
  {
   "cell_type": "code",
   "execution_count": 1,
   "id": "e0acfbe4",
   "metadata": {},
   "outputs": [],
   "source": [
    "import pandas as pd\n",
    "import numpy as np\n",
    "import os"
   ]
  },
  {
   "cell_type": "code",
   "execution_count": 2,
   "id": "c7b91eb5",
   "metadata": {},
   "outputs": [],
   "source": [
    "#loading training and testing sets\n",
    "projectDirPath = os.path.abspath(\"\")\n",
    "\n",
    "X_train = pd.read_csv(projectDirPath + \"\\\\ready data\\\\X_train.csv\").values\n",
    "X_test = pd.read_csv(projectDirPath + \"\\\\ready data\\\\X_test.csv\").values\n",
    "y_train = pd.read_csv(projectDirPath + \"\\\\ready data\\\\y_train.csv\").values.reshape(-1,)\n",
    "y_test = pd.read_csv(projectDirPath + \"\\\\ready data\\\\y_test.csv\").values.reshape(-1,)"
   ]
  },
  {
   "cell_type": "code",
   "execution_count": 3,
   "id": "ee6c623a",
   "metadata": {},
   "outputs": [
    {
     "data": {
      "text/plain": [
       "SVC(kernel='linear')"
      ]
     },
     "execution_count": 3,
     "metadata": {},
     "output_type": "execute_result"
    }
   ],
   "source": [
    "#training the model\n",
    "from sklearn.svm import SVC\n",
    "\n",
    "svc = SVC(kernel = \"linear\")\n",
    "svc.fit(X_train, y_train)"
   ]
  },
  {
   "cell_type": "code",
   "execution_count": 4,
   "id": "01a696ca",
   "metadata": {},
   "outputs": [
    {
     "name": "stdout",
     "output_type": "stream",
     "text": [
      "mean of 10 accuracies:  0.9655660377358488\n",
      "standard deviation of accuracies:  0.047589010591440065\n",
      "mean of 10 recalls:  0.9655660377358488\n",
      "standard deviation of recalls:  0.047589010591440065\n"
     ]
    }
   ],
   "source": [
    "#validation of the model using k-cross validation\n",
    "from sklearn.model_selection import cross_val_score\n",
    "from sklearn.metrics import make_scorer, recall_score\n",
    "\n",
    "accuracies = cross_val_score(estimator = svc, X = X_train, y = y_train, cv = 10)\n",
    "\n",
    "recall_scorer = make_scorer(recall_score, pos_label = 4)\n",
    "recalls = cross_val_score(estimator = svc, X = X_train, y = y_train, scoring = recall_scorer, cv = 10)\n",
    "\n",
    "accMean = accuracies.mean()\n",
    "accStdDev = accuracies.std()\n",
    "recMean = recalls.mean()\n",
    "recStdDev = recalls.std()\n",
    "\n",
    "print(\"mean of 10 accuracies: \", accMean)\n",
    "print(\"standard deviation of accuracies: \", recStdDev)\n",
    "print(\"mean of 10 recalls: \", accMean)\n",
    "print(\"standard deviation of recalls: \", recStdDev)"
   ]
  },
  {
   "cell_type": "code",
   "execution_count": 5,
   "id": "5774d660",
   "metadata": {},
   "outputs": [
    {
     "name": "stdout",
     "output_type": "stream",
     "text": [
      "accuracy on the test set:  0.9657142857142857\n",
      "recall on the test set:  0.9655172413793104\n",
      "confusion matrix:\n",
      "  [[113   4]\n",
      " [  2  56]]\n"
     ]
    }
   ],
   "source": [
    "#testing of the model on the test set and computing : precision, recall and confusion matrix\n",
    "from sklearn.metrics import accuracy_score, confusion_matrix\n",
    "\n",
    "y_pred = svc.predict(X_test)\n",
    "acc = accuracy_score(y_test, y_pred)\n",
    "rec = recall_score(y_test, y_pred, pos_label = 4)\n",
    "cm = confusion_matrix(y_test, y_pred)\n",
    "\n",
    "print(\"accuracy on the test set: \", acc)\n",
    "print(\"recall on the test set: \", rec)\n",
    "print(\"confusion matrix:\\n \", cm)"
   ]
  },
  {
   "cell_type": "code",
   "execution_count": 6,
   "id": "e1b02719",
   "metadata": {},
   "outputs": [
    {
     "data": {
      "text/plain": [
       "['C:\\\\Users\\\\misla\\\\Desktop\\\\breast cancer tumor classification\\\\models\\\\svc.joblib']"
      ]
     },
     "execution_count": 6,
     "metadata": {},
     "output_type": "execute_result"
    }
   ],
   "source": [
    "#saving the model\n",
    "from joblib import dump\n",
    "\n",
    "dump(svc, projectDirPath + \"\\\\models\\svc.joblib\")"
   ]
  },
  {
   "cell_type": "code",
   "execution_count": null,
   "id": "a3315fdc",
   "metadata": {},
   "outputs": [],
   "source": [
    "#saving evaluation data for all tried out models\n",
    "import json\n",
    "\n",
    "#evaluation data for all the used models (will be used in streamlit app)\n",
    "svcData = {\"mean10Acc\" : accMean, \"accStd\" : accStdDev, \"mean10Rec\" : recMean, \"recStd\" : recStdDev, \"acc\": acc, \"rec\": rec}\n",
    "\n",
    "with open(projectDirPath + \"\\\\modelsData\\\\svc.json\") as file:\n",
    "    json.dump(svcData, file)"
   ]
  }
 ],
 "metadata": {
  "kernelspec": {
   "display_name": "Python 3 (ipykernel)",
   "language": "python",
   "name": "python3"
  },
  "language_info": {
   "codemirror_mode": {
    "name": "ipython",
    "version": 3
   },
   "file_extension": ".py",
   "mimetype": "text/x-python",
   "name": "python",
   "nbconvert_exporter": "python",
   "pygments_lexer": "ipython3",
   "version": "3.8.12"
  }
 },
 "nbformat": 4,
 "nbformat_minor": 5
}
